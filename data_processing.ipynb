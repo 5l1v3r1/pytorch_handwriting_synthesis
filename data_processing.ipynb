{
 "cells": [
  {
   "cell_type": "code",
   "execution_count": 1,
   "metadata": {},
   "outputs": [],
   "source": [
    "import glob\n",
    "from pathlib import Path\n",
    "from xml.etree.ElementTree import ElementTree\n",
    "import numpy as np\n",
    "import matplotlib.pyplot as plt\n",
    "%matplotlib inline\n",
    "from scipy.signal import savgol_filter"
   ]
  },
  {
   "cell_type": "code",
   "execution_count": 2,
   "metadata": {},
   "outputs": [],
   "source": [
    "def coords_to_offsets(coords):\n",
    "    \"\"\"\n",
    "    convert from coordinates to offsets\n",
    "    \"\"\"\n",
    "    offsets = np.concatenate([coords[1:, :2] - coords[:-1, :2], coords[1:, 2:3]], axis=1)\n",
    "    offsets = np.concatenate([np.array([[0, 0, 1]]), offsets], axis=0)\n",
    "    return offsets"
   ]
  },
  {
   "cell_type": "code",
   "execution_count": 3,
   "metadata": {},
   "outputs": [],
   "source": [
    "def align(coords):\n",
    "    \"\"\"\n",
    "    corrects for global slant/offset in handwriting strokes\n",
    "    \"\"\"\n",
    "    coords = np.copy(coords)\n",
    "    X, Y = coords[:, 0].reshape(-1, 1), coords[:, 1].reshape(-1, 1)\n",
    "    X = np.concatenate([np.ones([X.shape[0], 1]), X], axis=1)\n",
    "    offset, slope = np.linalg.inv(X.T.dot(X)).dot(X.T).dot(Y).squeeze()\n",
    "    theta = np.arctan(slope)\n",
    "    rotation_matrix = np.array(\n",
    "        [[np.cos(theta), -np.sin(theta)],\n",
    "         [np.sin(theta), np.cos(theta)]]\n",
    "    )\n",
    "    coords[:, :2] = np.dot(coords[:, :2], rotation_matrix) - offset\n",
    "    return coords"
   ]
  },
  {
   "cell_type": "code",
   "execution_count": 4,
   "metadata": {},
   "outputs": [],
   "source": [
    "def denoise(coords):\n",
    "    \"\"\"\n",
    "    smoothing filter to mitigate some artifacts of the data collection\n",
    "    \"\"\"\n",
    "    coords = np.split(coords, np.where(coords[:, 2] == 1)[0] + 1, axis=0)\n",
    "    new_coords = []\n",
    "    for stroke in coords:\n",
    "        if len(stroke) != 0:\n",
    "            x_new = savgol_filter(stroke[:, 0], 7, 3, mode='nearest')\n",
    "            y_new = savgol_filter(stroke[:, 1], 7, 3, mode='nearest')\n",
    "            xy_coords = np.hstack([x_new.reshape(-1, 1), y_new.reshape(-1, 1)])\n",
    "            stroke = np.concatenate([xy_coords, stroke[:, 2].reshape(-1, 1)], axis=1)\n",
    "            new_coords.append(stroke)\n",
    "\n",
    "    coords = np.vstack(new_coords)\n",
    "    return coords"
   ]
  },
  {
   "cell_type": "code",
   "execution_count": 5,
   "metadata": {},
   "outputs": [],
   "source": [
    "def normalize(offsets):\n",
    "    \"\"\"\n",
    "    normalizes strokes to median unit norm\n",
    "    \"\"\"\n",
    "    offsets = np.copy(offsets)\n",
    "    offsets[:, :2] /= np.median(np.linalg.norm(offsets[:, :2], axis=1))\n",
    "    return offsets"
   ]
  },
  {
   "cell_type": "code",
   "execution_count": 19,
   "metadata": {},
   "outputs": [],
   "source": [
    "def draw(\n",
    "    offsets,\n",
    "    align_strokes=True,\n",
    "    denoise_strokes=True,\n",
    "    ascii_seq=None\n",
    "):\n",
    "    strokes = offsets\n",
    "\n",
    "    fig, ax = plt.subplots(figsize=(12, 3))\n",
    "\n",
    "    stroke = []\n",
    "    for x, y, eos in strokes:\n",
    "        stroke.append((x, y))\n",
    "        if eos == 1:\n",
    "            coords = list(zip(*stroke))\n",
    "            ax.plot(coords[0], -np.asarray(coords[1]), 'k', c='blue')\n",
    "            stroke = []\n",
    "\n",
    "    if stroke:\n",
    "        coords = zip(*stroke)\n",
    "        ax.plot(coords[0], -np.asarray(coords[1]), 'k', c='blue')\n",
    "        stroke = []\n",
    "\n",
    "    ax.set_xlim(-50, 600)\n",
    "    ax.set_ylim(-40, 40)\n",
    "  \n",
    "    ax.set_aspect('equal')\n",
    "    plt.tick_params(\n",
    "        axis='both',\n",
    "        left='off',\n",
    "        top='off',\n",
    "        right='off',\n",
    "        bottom='off',\n",
    "        labelleft='off',\n",
    "        labeltop='off',\n",
    "        labelright='off',\n",
    "        labelbottom='off'\n",
    "    )\n",
    "\n",
    "    if ascii_seq is not None:\n",
    "        if not isinstance(ascii_seq, str):\n",
    "            ascii_seq = ''.join(list(map(chr, ascii_seq)))\n",
    "        plt.title(ascii_seq)"
   ]
  },
  {
   "cell_type": "markdown",
   "metadata": {},
   "source": [
    "### 1. Retrieve all text files"
   ]
  },
  {
   "cell_type": "code",
   "execution_count": 20,
   "metadata": {},
   "outputs": [
    {
     "name": "stdout",
     "output_type": "stream",
     "text": [
      "Printing sample filename: \n",
      "/data/iam_ondb/ascii/p07/p07-909/p07-909z.txt\n"
     ]
    }
   ],
   "source": [
    "files = glob.glob(\"/data/iam_ondb/ascii/**/*.txt\", recursive=True)\n",
    "print(\"Printing sample filename: \")\n",
    "print(files[0])"
   ]
  },
  {
   "cell_type": "code",
   "execution_count": 21,
   "metadata": {},
   "outputs": [],
   "source": [
    "sentences = []\n",
    "lineStrokes = []"
   ]
  },
  {
   "cell_type": "code",
   "execution_count": 22,
   "metadata": {},
   "outputs": [],
   "source": [
    "# for i, file in enumerate(files):\n",
    "root = Path(files[0])\n",
    "data = open(root).read().splitlines()\n",
    "start_idx = data.index('CSR:') + 2\n",
    "text = data[start_idx:]\n",
    "sentences += text\n",
    "\n",
    "# for i in range(1, 1 + len(text)):\n",
    "i=1\n",
    "stroke_path = str(root).replace('ascii', 'lineStrokes').replace('.txt', '-%02d.xml' % i)\n",
    "et = ElementTree().parse(stroke_path)\n",
    "arr = []\n",
    "for stroke in et[1]: # loop through Strokes in a StrokeSet\n",
    "    for point in stroke: # loop through points in a Stroke\n",
    "        arr.append([int(point.attrib['x']), int(point.attrib['y']), 0])\n",
    "    arr[-1][-1] = 1 # Stroke ends, pen up!"
   ]
  },
  {
   "cell_type": "code",
   "execution_count": 23,
   "metadata": {},
   "outputs": [],
   "source": [
    "points = np.array(arr)\n",
    "points = denoise(align(points))\n",
    "# points = denoise(points)\n",
    "diffs = coords_to_offsets(points)\n",
    "diffs = normalize(diffs)"
   ]
  },
  {
   "cell_type": "code",
   "execution_count": 24,
   "metadata": {},
   "outputs": [],
   "source": [
    "recons_points = np.concatenate([np.cumsum(diffs[:, :2], 0), diffs[:, 2:3]], 1)"
   ]
  },
  {
   "cell_type": "code",
   "execution_count": 25,
   "metadata": {},
   "outputs": [
    {
     "data": {
      "text/plain": [
       "array([[0.00000000e+00, 0.00000000e+00, 1.00000000e+00],\n",
       "       [1.09267596e-02, 5.46337979e-02, 0.00000000e+00],\n",
       "       [1.09267596e-01, 1.61169704e-01, 0.00000000e+00],\n",
       "       ...,\n",
       "       [3.88490010e+02, 4.10299822e+00, 0.00000000e+00],\n",
       "       [3.89022690e+02, 4.42806932e+00, 0.00000000e+00],\n",
       "       [3.89129226e+02, 4.66572634e+00, 1.00000000e+00]])"
      ]
     },
     "execution_count": 25,
     "metadata": {},
     "output_type": "execute_result"
    }
   ],
   "source": [
    "recons_points"
   ]
  },
  {
   "cell_type": "code",
   "execution_count": 26,
   "metadata": {},
   "outputs": [
    {
     "data": {
      "image/png": "[encoded data removed]",
      "text/plain": [
       "<Figure size 864x216 with 1 Axes>"
      ]
     },
     "metadata": {},
     "output_type": "display_data"
    }
   ],
   "source": [
    "draw(recons_points)"
   ]
  },
  {
   "cell_type": "code",
   "execution_count": 27,
   "metadata": {},
   "outputs": [
    {
     "data": {
      "image/png": "[encoded data removed]",
      "text/plain": [
       "<Figure size 864x216 with 1 Axes>"
      ]
     },
     "metadata": {},
     "output_type": "display_data"
    }
   ],
   "source": [
    "draw(recons_points)"
   ]
  },
  {
   "cell_type": "code",
   "execution_count": 28,
   "metadata": {},
   "outputs": [
    {
     "data": {
      "text/plain": [
       "'\"Darling,\" he burst out with, \"I fear'"
      ]
     },
     "execution_count": 28,
     "metadata": {},
     "output_type": "execute_result"
    }
   ],
   "source": [
    "sentences[i-1]"
   ]
  },
  {
   "cell_type": "code",
   "execution_count": null,
   "metadata": {},
   "outputs": [],
   "source": []
  }
 ],
 "metadata": {
  "kernelspec": {
   "display_name": "Python 3",
   "language": "python",
   "name": "python3"
  },
  "language_info": {
   "codemirror_mode": {
    "name": "ipython",
    "version": 3
   },
   "file_extension": ".py",
   "mimetype": "text/x-python",
   "name": "python",
   "nbconvert_exporter": "python",
   "pygments_lexer": "ipython3",
   "version": "3.7.0"
  }
 },
 "nbformat": 4,
 "nbformat_minor": 2
}
